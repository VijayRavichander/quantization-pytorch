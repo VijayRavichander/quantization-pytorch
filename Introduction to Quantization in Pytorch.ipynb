{
 "cells": [
  {
   "cell_type": "code",
   "execution_count": 219,
   "id": "601f3bd2",
   "metadata": {},
   "outputs": [],
   "source": [
    "# Imports \n",
    "import torch\n",
    "import numpy as np\n",
    "import torchvision.datasets as datasets\n",
    "import torchvision.transforms as transforms\n",
    "import torch.nn as nn\n",
    "from tqdm import tqdm\n",
    "from pathlib import Path\n",
    "import os\n",
    "torch.backends.quantized.engine = 'qnnpack'\n",
    "torch.set_printoptions(sci_mode = False)"
   ]
  },
  {
   "cell_type": "markdown",
   "id": "374020c3",
   "metadata": {},
   "source": [
    "## Basic Quantization"
   ]
  },
  {
   "cell_type": "code",
   "execution_count": 220,
   "id": "c43d3930",
   "metadata": {},
   "outputs": [],
   "source": [
    "# Generating Random Params\n",
    "params = torch.tensor(np.random.uniform(low = -10, \n",
    "                                        high = 20, \n",
    "                                        size = 200000))\n"
   ]
  },
  {
   "cell_type": "code",
   "execution_count": 221,
   "id": "79391207",
   "metadata": {},
   "outputs": [],
   "source": [
    "def asymmetric_quantization(params: torch.tensor, n_bits: int, percentile: float = 0) -> [torch.tensor]:\n",
    "    \n",
    "    # quantizations init\n",
    "    \n",
    "    if not percentile:\n",
    "        alpha = torch.max(params)\n",
    "        beta = torch.min(params)\n",
    "    \n",
    "    else:\n",
    "        alpha = torch.quantile(params, percentile, interpolation='linear')\n",
    "        beta = torch.quantile(params, 1 - percentile, interpolation='linear') \n",
    "        \n",
    "    scale = (alpha - beta) / (2 ** n_bits - 1)\n",
    "    z = -1 * torch.round((beta / scale))\n",
    "\n",
    "\n",
    "    # quantization\n",
    "    q_params = (torch.round(params / scale) + z)\n",
    "    \n",
    "    # value clipping\n",
    "    q_params_clamped = torch.clamp(q_params, min = 0, max = 2 ** n_bits - 1)\n",
    "    \n",
    "    # dequantization\n",
    "    dq_params = (q_params_clamped - z) * scale\n",
    "    \n",
    "    # MSE error in quantization\n",
    "    error = torch.mean((params - dq_params) ** 2)\n",
    "    \n",
    "    return dq_params, error\n",
    "    \n",
    "dq_params, mse = asymmetric_quantization(params, 8, 0)\n",
    "dq_params_percentile, mse_percentile = asymmetric_quantization(params, 8, 0.9999)"
   ]
  },
  {
   "cell_type": "code",
   "execution_count": 222,
   "id": "065d7368",
   "metadata": {},
   "outputs": [
    {
     "name": "stdout",
     "output_type": "stream",
     "text": [
      "MSE Error in min-max qunatization 0.001153559216033612\n",
      "MSE Error in percentile(0.99) quantization 0.0011527203556808393\n"
     ]
    }
   ],
   "source": [
    "print(f\"MSE Error in min-max qunatization {mse.item()}\")\n",
    "print(f\"MSE Error in percentile(0.99) quantization {mse_percentile.item()}\")"
   ]
  },
  {
   "cell_type": "markdown",
   "id": "bc33e814",
   "metadata": {},
   "source": [
    "## Quantization in Neural Networks"
   ]
  },
  {
   "cell_type": "markdown",
   "id": "f084cf98",
   "metadata": {},
   "source": [
    "### Quantization Aware Training "
   ]
  },
  {
   "cell_type": "code",
   "execution_count": 223,
   "id": "88d05f3a",
   "metadata": {
    "scrolled": true
   },
   "outputs": [],
   "source": [
    "\n",
    "\n",
    "torch.manual_seed(0)\n",
    "\n",
    "transform = transforms.Compose([transforms.ToTensor()])\n",
    "\n",
    "mnist_trainset = datasets.MNIST(root = \"./data\", train = True, download = True, transform = transform)\n",
    "\n",
    "mnist_testset = datasets.MNIST(root = \"./data\", train = False, download = True, transform = transform)\n",
    "\n",
    "\n",
    "train_dataloader = torch.utils.data.DataLoader(mnist_trainset, batch_size = 10, shuffle = True)\n",
    "test_dataloader = torch.utils.data.DataLoader(mnist_testset, batch_size = 10, shuffle = False)\n",
    "\n",
    "\n",
    "device = 'cpu'"
   ]
  },
  {
   "cell_type": "code",
   "execution_count": 224,
   "id": "6835245a",
   "metadata": {},
   "outputs": [],
   "source": [
    "# Qunatization Aware Training\n",
    "class TinyNet(nn.Module):\n",
    "    \n",
    "    def __init__(self, hidden1_size = 100, hidden2_size = 100):\n",
    "        super().__init__()\n",
    "        self.quant = torch.ao.quantization.QuantStub()\n",
    "        self.linear1 = nn.Linear(28 * 28, hidden1_size)\n",
    "        self.linear2 = nn.Linear(hidden1_size, hidden2_size)\n",
    "        self.linear3 = nn.Linear(hidden2_size, 10)\n",
    "        self.dequant = torch.ao.quantization.DeQuantStub()\n",
    "        self.relu = nn.ReLU()\n",
    "    \n",
    "    def forward(self, img):\n",
    "        x = img.view(-1, 28 * 28)\n",
    "        x = self.quant(x)\n",
    "        x = self.relu(self.linear1(x))\n",
    "        x = self.relu(self.linear2(x))\n",
    "        x = self.linear3(x)\n",
    "        x = self.dequant(x)\n",
    "        return x\n",
    "\n",
    "    \n",
    "quantization_aware_model = TinyNet().to(device)"
   ]
  },
  {
   "cell_type": "code",
   "execution_count": 225,
   "id": "e4cc9fdc",
   "metadata": {},
   "outputs": [
    {
     "data": {
      "text/plain": [
       "TinyNet(\n",
       "  (quant): QuantStub(\n",
       "    (activation_post_process): FakeQuantize(\n",
       "      fake_quant_enabled=tensor([1], dtype=torch.uint8), observer_enabled=tensor([1], dtype=torch.uint8), quant_min=0, quant_max=127, dtype=torch.quint8, qscheme=torch.per_tensor_affine, ch_axis=-1, scale=tensor([1.]), zero_point=tensor([0], dtype=torch.int32)\n",
       "      (activation_post_process): MovingAverageMinMaxObserver(min_val=inf, max_val=-inf)\n",
       "    )\n",
       "  )\n",
       "  (linear1): Linear(\n",
       "    in_features=784, out_features=100, bias=True\n",
       "    (weight_fake_quant): FakeQuantize(\n",
       "      fake_quant_enabled=tensor([1], dtype=torch.uint8), observer_enabled=tensor([1], dtype=torch.uint8), quant_min=-128, quant_max=127, dtype=torch.qint8, qscheme=torch.per_tensor_symmetric, ch_axis=-1, scale=tensor([1.]), zero_point=tensor([0], dtype=torch.int32)\n",
       "      (activation_post_process): MovingAverageMinMaxObserver(min_val=inf, max_val=-inf)\n",
       "    )\n",
       "    (activation_post_process): FakeQuantize(\n",
       "      fake_quant_enabled=tensor([1], dtype=torch.uint8), observer_enabled=tensor([1], dtype=torch.uint8), quant_min=0, quant_max=127, dtype=torch.quint8, qscheme=torch.per_tensor_affine, ch_axis=-1, scale=tensor([1.]), zero_point=tensor([0], dtype=torch.int32)\n",
       "      (activation_post_process): MovingAverageMinMaxObserver(min_val=inf, max_val=-inf)\n",
       "    )\n",
       "  )\n",
       "  (linear2): Linear(\n",
       "    in_features=100, out_features=100, bias=True\n",
       "    (weight_fake_quant): FakeQuantize(\n",
       "      fake_quant_enabled=tensor([1], dtype=torch.uint8), observer_enabled=tensor([1], dtype=torch.uint8), quant_min=-128, quant_max=127, dtype=torch.qint8, qscheme=torch.per_tensor_symmetric, ch_axis=-1, scale=tensor([1.]), zero_point=tensor([0], dtype=torch.int32)\n",
       "      (activation_post_process): MovingAverageMinMaxObserver(min_val=inf, max_val=-inf)\n",
       "    )\n",
       "    (activation_post_process): FakeQuantize(\n",
       "      fake_quant_enabled=tensor([1], dtype=torch.uint8), observer_enabled=tensor([1], dtype=torch.uint8), quant_min=0, quant_max=127, dtype=torch.quint8, qscheme=torch.per_tensor_affine, ch_axis=-1, scale=tensor([1.]), zero_point=tensor([0], dtype=torch.int32)\n",
       "      (activation_post_process): MovingAverageMinMaxObserver(min_val=inf, max_val=-inf)\n",
       "    )\n",
       "  )\n",
       "  (linear3): Linear(\n",
       "    in_features=100, out_features=10, bias=True\n",
       "    (weight_fake_quant): FakeQuantize(\n",
       "      fake_quant_enabled=tensor([1], dtype=torch.uint8), observer_enabled=tensor([1], dtype=torch.uint8), quant_min=-128, quant_max=127, dtype=torch.qint8, qscheme=torch.per_tensor_symmetric, ch_axis=-1, scale=tensor([1.]), zero_point=tensor([0], dtype=torch.int32)\n",
       "      (activation_post_process): MovingAverageMinMaxObserver(min_val=inf, max_val=-inf)\n",
       "    )\n",
       "    (activation_post_process): FakeQuantize(\n",
       "      fake_quant_enabled=tensor([1], dtype=torch.uint8), observer_enabled=tensor([1], dtype=torch.uint8), quant_min=0, quant_max=127, dtype=torch.quint8, qscheme=torch.per_tensor_affine, ch_axis=-1, scale=tensor([1.]), zero_point=tensor([0], dtype=torch.int32)\n",
       "      (activation_post_process): MovingAverageMinMaxObserver(min_val=inf, max_val=-inf)\n",
       "    )\n",
       "  )\n",
       "  (dequant): DeQuantStub()\n",
       "  (relu): ReLU()\n",
       ")"
      ]
     },
     "execution_count": 225,
     "metadata": {},
     "output_type": "execute_result"
    }
   ],
   "source": [
    "quantization_aware_model.qconfig = torch.ao.quantization.default_qat_qconfig\n",
    "\n",
    "quantization_aware_model.train()\n",
    "\n",
    "quantized_aware_model = torch.ao.quantization.prepare_qat(quantization_aware_model)\n",
    "\n",
    "quantized_aware_model"
   ]
  },
  {
   "cell_type": "code",
   "execution_count": 226,
   "id": "748ca843",
   "metadata": {},
   "outputs": [
    {
     "name": "stderr",
     "output_type": "stream",
     "text": [
      "Epoch 1: 100%|█████████████████| 6000/6000 [00:14<00:00, 409.09it/s, loss=0.257]\n"
     ]
    }
   ],
   "source": [
    "def train(train_loader, network, epochs=5):\n",
    "    ce_loss = nn.CrossEntropyLoss()\n",
    "    optimizer = torch.optim.Adam(network.parameters(), lr=0.001)\n",
    "\n",
    "    total_iterations = 0\n",
    "\n",
    "    for epoch in range(epochs):\n",
    "        network.train()\n",
    "\n",
    "        loss_sum = 0\n",
    "        num_iterations = 0\n",
    "\n",
    "        data_iterator = tqdm(train_loader, desc=f'Epoch {epoch+1}')\n",
    "        \n",
    "        for data in data_iterator:\n",
    "            num_iterations += 1\n",
    "            total_iterations += 1\n",
    "            x, y = data\n",
    "            x = x.to(device)\n",
    "            y = y.to(device)\n",
    "            optimizer.zero_grad()\n",
    "            output = network(x.view(-1, 28*28))\n",
    "            loss = ce_loss(output, y)\n",
    "            loss_sum += loss.item()\n",
    "            avg_loss = loss_sum / num_iterations\n",
    "            data_iterator.set_postfix(loss=avg_loss)\n",
    "            loss.backward()\n",
    "            optimizer.step()\n",
    "\n",
    "train(train_dataloader, quantized_aware_model, epochs=1)"
   ]
  },
  {
   "cell_type": "code",
   "execution_count": 227,
   "id": "f4dd8cc0",
   "metadata": {},
   "outputs": [
    {
     "data": {
      "text/plain": [
       "TinyNet(\n",
       "  (quant): QuantStub(\n",
       "    (activation_post_process): FakeQuantize(\n",
       "      fake_quant_enabled=tensor([1], dtype=torch.uint8), observer_enabled=tensor([1], dtype=torch.uint8), quant_min=0, quant_max=127, dtype=torch.quint8, qscheme=torch.per_tensor_affine, ch_axis=-1, scale=tensor([0.0079]), zero_point=tensor([0], dtype=torch.int32)\n",
       "      (activation_post_process): MovingAverageMinMaxObserver(min_val=0.0, max_val=1.0)\n",
       "    )\n",
       "  )\n",
       "  (linear1): Linear(\n",
       "    in_features=784, out_features=100, bias=True\n",
       "    (weight_fake_quant): FakeQuantize(\n",
       "      fake_quant_enabled=tensor([1], dtype=torch.uint8), observer_enabled=tensor([1], dtype=torch.uint8), quant_min=-128, quant_max=127, dtype=torch.qint8, qscheme=torch.per_tensor_symmetric, ch_axis=-1, scale=tensor([0.0039]), zero_point=tensor([0], dtype=torch.int32)\n",
       "      (activation_post_process): MovingAverageMinMaxObserver(min_val=-0.49763086438179016, max_val=0.4351730942726135)\n",
       "    )\n",
       "    (activation_post_process): FakeQuantize(\n",
       "      fake_quant_enabled=tensor([1], dtype=torch.uint8), observer_enabled=tensor([1], dtype=torch.uint8), quant_min=0, quant_max=127, dtype=torch.quint8, qscheme=torch.per_tensor_affine, ch_axis=-1, scale=tensor([0.1327]), zero_point=tensor([79], dtype=torch.int32)\n",
       "      (activation_post_process): MovingAverageMinMaxObserver(min_val=-10.520132064819336, max_val=6.335130214691162)\n",
       "    )\n",
       "  )\n",
       "  (linear2): Linear(\n",
       "    in_features=100, out_features=100, bias=True\n",
       "    (weight_fake_quant): FakeQuantize(\n",
       "      fake_quant_enabled=tensor([1], dtype=torch.uint8), observer_enabled=tensor([1], dtype=torch.uint8), quant_min=-128, quant_max=127, dtype=torch.qint8, qscheme=torch.per_tensor_symmetric, ch_axis=-1, scale=tensor([0.0039]), zero_point=tensor([0], dtype=torch.int32)\n",
       "      (activation_post_process): MovingAverageMinMaxObserver(min_val=-0.4713624119758606, max_val=0.49441295862197876)\n",
       "    )\n",
       "    (activation_post_process): FakeQuantize(\n",
       "      fake_quant_enabled=tensor([1], dtype=torch.uint8), observer_enabled=tensor([1], dtype=torch.uint8), quant_min=0, quant_max=127, dtype=torch.quint8, qscheme=torch.per_tensor_affine, ch_axis=-1, scale=tensor([0.0959]), zero_point=tensor([58], dtype=torch.int32)\n",
       "      (activation_post_process): MovingAverageMinMaxObserver(min_val=-5.514254570007324, max_val=6.662776470184326)\n",
       "    )\n",
       "  )\n",
       "  (linear3): Linear(\n",
       "    in_features=100, out_features=10, bias=True\n",
       "    (weight_fake_quant): FakeQuantize(\n",
       "      fake_quant_enabled=tensor([1], dtype=torch.uint8), observer_enabled=tensor([1], dtype=torch.uint8), quant_min=-128, quant_max=127, dtype=torch.qint8, qscheme=torch.per_tensor_symmetric, ch_axis=-1, scale=tensor([0.0039]), zero_point=tensor([0], dtype=torch.int32)\n",
       "      (activation_post_process): MovingAverageMinMaxObserver(min_val=-0.5031180381774902, max_val=0.25022566318511963)\n",
       "    )\n",
       "    (activation_post_process): FakeQuantize(\n",
       "      fake_quant_enabled=tensor([1], dtype=torch.uint8), observer_enabled=tensor([1], dtype=torch.uint8), quant_min=0, quant_max=127, dtype=torch.quint8, qscheme=torch.per_tensor_affine, ch_axis=-1, scale=tensor([0.2088]), zero_point=tensor([83], dtype=torch.int32)\n",
       "      (activation_post_process): MovingAverageMinMaxObserver(min_val=-17.34888458251953, max_val=9.173117637634277)\n",
       "    )\n",
       "  )\n",
       "  (dequant): DeQuantStub()\n",
       "  (relu): ReLU()\n",
       ")"
      ]
     },
     "execution_count": 227,
     "metadata": {},
     "output_type": "execute_result"
    }
   ],
   "source": [
    "quantized_aware_model"
   ]
  },
  {
   "cell_type": "code",
   "execution_count": 232,
   "id": "e5c6bf5e",
   "metadata": {},
   "outputs": [],
   "source": [
    "def eval(model):\n",
    "    correct = 0\n",
    "    total = 0\n",
    "\n",
    "    iterations = 0\n",
    "\n",
    "    model.eval()\n",
    "\n",
    "    with torch.no_grad():\n",
    "        for data in tqdm(test_dataloader, desc='Testing'):\n",
    "            x, y = data\n",
    "            x = x.to(device)\n",
    "            y = y.to(device)\n",
    "            output = model(x.view(-1, 784))\n",
    "            for idx, i in enumerate(output):\n",
    "                if torch.argmax(i) == y[idx]:\n",
    "                    correct +=1\n",
    "                total +=1\n",
    "            iterations += 1\n",
    "    print(f'Accuracy: {round(correct/total, 3)}')"
   ]
  },
  {
   "cell_type": "code",
   "execution_count": 230,
   "id": "c35d9368",
   "metadata": {},
   "outputs": [],
   "source": [
    "quantized_aware_model.eval()\n",
    "\n",
    "quantized_aware_model_INT = torch.ao.quantization.convert(quantized_aware_model)"
   ]
  },
  {
   "cell_type": "code",
   "execution_count": 257,
   "id": "d8aa946c",
   "metadata": {},
   "outputs": [
    {
     "name": "stderr",
     "output_type": "stream",
     "text": [
      "Testing: 100%|████████████████████████████| 1000/1000 [00:00<00:00, 1003.62it/s]"
     ]
    },
    {
     "name": "stdout",
     "output_type": "stream",
     "text": [
      "Accuracy: 0.954\n"
     ]
    },
    {
     "name": "stderr",
     "output_type": "stream",
     "text": [
      "\n"
     ]
    }
   ],
   "source": [
    "eval(quantized_aware_model)"
   ]
  },
  {
   "cell_type": "code",
   "execution_count": 258,
   "id": "08b8b181",
   "metadata": {},
   "outputs": [
    {
     "name": "stderr",
     "output_type": "stream",
     "text": [
      "Testing: 100%|████████████████████████████| 1000/1000 [00:00<00:00, 2560.14it/s]"
     ]
    },
    {
     "name": "stdout",
     "output_type": "stream",
     "text": [
      "Accuracy: 0.954\n"
     ]
    },
    {
     "name": "stderr",
     "output_type": "stream",
     "text": [
      "\n"
     ]
    }
   ],
   "source": [
    "eval(quantized_aware_model_INT)"
   ]
  },
  {
   "cell_type": "code",
   "execution_count": 253,
   "id": "ec6732d8",
   "metadata": {},
   "outputs": [],
   "source": [
    "def print_size_of_model(model):\n",
    "    torch.save(model.state_dict(), \"temp_delme.p\")\n",
    "    size = os.path.getsize(\"temp_delme.p\")/1e3\n",
    "    os.remove('temp_delme.p')\n",
    "    return size"
   ]
  },
  {
   "cell_type": "code",
   "execution_count": 256,
   "id": "3322cc58",
   "metadata": {},
   "outputs": [
    {
     "name": "stdout",
     "output_type": "stream",
     "text": [
      "Non Quantized Model Size (KB):361.062 \n",
      "Quantized Model Size (KB):95.266 \n",
      "Compression Rate: 0.26384942198292816\n"
     ]
    }
   ],
   "source": [
    "NQ_model_size = print_size_of_model(quantization_aware_model)\n",
    "Q_model_size = print_size_of_model(quantized_aware_model_INT)\n",
    "print(f\"Non Quantized Model Size (KB):{print_size_of_model(quantization_aware_model)} \")\n",
    "print(f\"Quantized Model Size (KB):{print_size_of_model(quantized_aware_model_INT)} \")\n",
    "print(f\"Compression Rate: {Q_model_size / NQ_model_size}\")"
   ]
  },
  {
   "cell_type": "markdown",
   "id": "973eeec1",
   "metadata": {},
   "source": [
    "### Post Training Static Quantization"
   ]
  },
  {
   "cell_type": "code",
   "execution_count": 271,
   "id": "92c0fef7",
   "metadata": {},
   "outputs": [],
   "source": [
    "# Post Training Static Quantization Model\n",
    "class TinyNet(nn.Module):\n",
    "    \n",
    "    def __init__(self, hidden1_size = 100, hidden2_size = 100):\n",
    "        super().__init__()\n",
    "#         self.quant = torch.ao.quantization.QuantStub()\n",
    "        self.linear1 = nn.Linear(28 * 28, hidden1_size)\n",
    "        self.linear2 = nn.Linear(hidden1_size, hidden2_size)\n",
    "        self.linear3 = nn.Linear(hidden2_size, 10)\n",
    "#         self.dequant = torch.ao.quantization.DeQuantStub()\n",
    "        self.relu = nn.ReLU()\n",
    "    \n",
    "    def forward(self, img):\n",
    "        x = img.view(-1, 28 * 28)\n",
    "#         x = self.quant(x)\n",
    "        x = self.relu(self.linear1(x))\n",
    "        x = self.relu(self.linear2(x))\n",
    "        x = self.linear3(x)\n",
    "#         x = self.dequant(x)\n",
    "        return x"
   ]
  },
  {
   "cell_type": "code",
   "execution_count": 272,
   "id": "350ea344",
   "metadata": {},
   "outputs": [],
   "source": [
    "Non_Quant_model = TinyNet()"
   ]
  },
  {
   "cell_type": "code",
   "execution_count": 273,
   "id": "eab90f7c",
   "metadata": {},
   "outputs": [
    {
     "name": "stderr",
     "output_type": "stream",
     "text": [
      "Epoch 1: 100%|██████████████████| 6000/6000 [00:09<00:00, 666.14it/s, loss=0.24]\n"
     ]
    }
   ],
   "source": [
    "train(train_dataloader, Non_Quant_model, epochs = 1)"
   ]
  },
  {
   "cell_type": "code",
   "execution_count": 274,
   "id": "f096fdfd",
   "metadata": {},
   "outputs": [
    {
     "name": "stderr",
     "output_type": "stream",
     "text": [
      "Testing: 100%|████████████████████████████| 1000/1000 [00:00<00:00, 3471.12it/s]"
     ]
    },
    {
     "name": "stdout",
     "output_type": "stream",
     "text": [
      "Accuracy: 0.965\n"
     ]
    },
    {
     "name": "stderr",
     "output_type": "stream",
     "text": [
      "\n"
     ]
    }
   ],
   "source": [
    "eval(Non_Quant_model)"
   ]
  },
  {
   "cell_type": "code",
   "execution_count": 275,
   "id": "79156df0",
   "metadata": {},
   "outputs": [],
   "source": [
    "class QuantizedTinyNet(nn.Module):\n",
    "    \n",
    "    def __init__(self, hidden1_size = 100, hidden2_size = 100):\n",
    "        super().__init__()\n",
    "        self.quant = torch.ao.quantization.QuantStub()\n",
    "        self.linear1 = nn.Linear(28 * 28, hidden1_size)\n",
    "        self.linear2 = nn.Linear(hidden1_size, hidden2_size)\n",
    "        self.linear3 = nn.Linear(hidden2_size, 10)\n",
    "        self.dequant = torch.ao.quantization.DeQuantStub()\n",
    "        self.relu = nn.ReLU()\n",
    "    \n",
    "    def forward(self, img):\n",
    "        x = img.view(-1, 28 * 28)\n",
    "        x = self.quant(x)\n",
    "        x = self.relu(self.linear1(x))\n",
    "        x = self.relu(self.linear2(x))\n",
    "        x = self.linear3(x)\n",
    "        x = self.dequant(x)\n",
    "        return x"
   ]
  },
  {
   "cell_type": "code",
   "execution_count": 277,
   "id": "364d28c8",
   "metadata": {},
   "outputs": [
    {
     "data": {
      "text/plain": [
       "QuantizedTinyNet(\n",
       "  (quant): QuantStub(\n",
       "    (activation_post_process): HistogramObserver(min_val=inf, max_val=-inf)\n",
       "  )\n",
       "  (linear1): Linear(\n",
       "    in_features=784, out_features=100, bias=True\n",
       "    (activation_post_process): HistogramObserver(min_val=inf, max_val=-inf)\n",
       "  )\n",
       "  (linear2): Linear(\n",
       "    in_features=100, out_features=100, bias=True\n",
       "    (activation_post_process): HistogramObserver(min_val=inf, max_val=-inf)\n",
       "  )\n",
       "  (linear3): Linear(\n",
       "    in_features=100, out_features=10, bias=True\n",
       "    (activation_post_process): HistogramObserver(min_val=inf, max_val=-inf)\n",
       "  )\n",
       "  (dequant): DeQuantStub()\n",
       "  (relu): ReLU()\n",
       ")"
      ]
     },
     "execution_count": 277,
     "metadata": {},
     "output_type": "execute_result"
    }
   ],
   "source": [
    "Quant_model = QuantizedTinyNet().to(device)\n",
    "\n",
    "Quant_model.load_state_dict(Non_Quant_model.state_dict())\n",
    "\n",
    "Quant_model.eval()\n",
    "\n",
    "Quant_model.qconfig = torch.ao.quantization.get_default_qconfig()\n",
    "\n",
    "PTSQ_model = torch.ao.quantization.prepare(Quant_model)\n",
    "\n",
    "PTSQ_model"
   ]
  },
  {
   "cell_type": "code",
   "execution_count": 278,
   "id": "bcb0a396",
   "metadata": {},
   "outputs": [
    {
     "name": "stderr",
     "output_type": "stream",
     "text": [
      "Testing: 100%|████████████████████████████| 1000/1000 [00:00<00:00, 1241.36it/s]"
     ]
    },
    {
     "name": "stdout",
     "output_type": "stream",
     "text": [
      "Accuracy: 0.965\n"
     ]
    },
    {
     "name": "stderr",
     "output_type": "stream",
     "text": [
      "\n"
     ]
    }
   ],
   "source": [
    "eval(PTSQ_model)"
   ]
  },
  {
   "cell_type": "code",
   "execution_count": 281,
   "id": "0efd2124",
   "metadata": {},
   "outputs": [],
   "source": [
    "PTSQ_model_INT = torch.ao.quantization.convert(PTSQ_model)"
   ]
  },
  {
   "cell_type": "code",
   "execution_count": 282,
   "id": "aab72a47",
   "metadata": {},
   "outputs": [
    {
     "name": "stderr",
     "output_type": "stream",
     "text": [
      "Testing: 100%|████████████████████████████| 1000/1000 [00:00<00:00, 2527.05it/s]"
     ]
    },
    {
     "name": "stdout",
     "output_type": "stream",
     "text": [
      "Accuracy: 0.966\n"
     ]
    },
    {
     "name": "stderr",
     "output_type": "stream",
     "text": [
      "\n"
     ]
    }
   ],
   "source": [
    "eval(PTSQ_model_INT)"
   ]
  },
  {
   "cell_type": "code",
   "execution_count": null,
   "id": "22eb3d12",
   "metadata": {},
   "outputs": [],
   "source": []
  }
 ],
 "metadata": {
  "kernelspec": {
   "display_name": "cs561",
   "language": "python",
   "name": "cs561"
  },
  "language_info": {
   "codemirror_mode": {
    "name": "ipython",
    "version": 3
   },
   "file_extension": ".py",
   "mimetype": "text/x-python",
   "name": "python",
   "nbconvert_exporter": "python",
   "pygments_lexer": "ipython3",
   "version": "3.11.5"
  }
 },
 "nbformat": 4,
 "nbformat_minor": 5
}
